{
 "cells": [
  {
   "cell_type": "code",
   "execution_count": 1,
   "id": "daaa2584-a0dd-4ee8-8fcf-fae4f94370e2",
   "metadata": {},
   "outputs": [],
   "source": [
    "import numpy as np\n",
    "\n",
    "def sigmoid(x):\n",
    "    return 1 / (1 + np.exp(-x))\n",
    "\n",
    "def sigmoid_derivative(x):\n",
    "    return x * (1 - x)"
   ]
  },
  {
   "cell_type": "code",
   "execution_count": 3,
   "id": "b855e34d-f649-4bff-ad37-5ad4b1a9f20f",
   "metadata": {},
   "outputs": [],
   "source": [
    "X = np.array([[0, 0], [0, 1], [1, 0], [1, 1]])\n",
    "y = np.array([[0], [1], [1], [0]])"
   ]
  },
  {
   "cell_type": "code",
   "execution_count": 5,
   "id": "273d3cb2-5f99-4a16-a880-a9529a9d17cf",
   "metadata": {},
   "outputs": [],
   "source": [
    "np.random.seed(42)\n",
    "input_neurons = 2\n",
    "hidden_neurons = 2\n",
    "output_neurons = 1\n",
    "\n",
    "W1 = np.random.uniform(-1, 1, (input_neurons, hidden_neurons))\n",
    "b1 = np.random.uniform(-1, 1, (1, hidden_neurons))\n",
    "W2 = np.random.uniform(-1, 1, (hidden_neurons, output_neurons))\n",
    "b2 = np.random.uniform(-1, 1, (1, output_neurons))\n",
    "\n",
    "epochs = 10000\n",
    "learning_rate = 0.1"
   ]
  },
  {
   "cell_type": "code",
   "execution_count": 7,
   "id": "79e17962-a0b4-4b58-96e8-5c7c2bc33652",
   "metadata": {},
   "outputs": [
    {
     "name": "stdout",
     "output_type": "stream",
     "text": [
      "Epoch 0, Loss: 0.254485\n",
      "Epoch 1000, Loss: 0.250004\n",
      "Epoch 2000, Loss: 0.249309\n",
      "Epoch 3000, Loss: 0.242221\n",
      "Epoch 4000, Loss: 0.173945\n",
      "Epoch 5000, Loss: 0.048031\n",
      "Epoch 6000, Loss: 0.016498\n",
      "Epoch 7000, Loss: 0.008891\n",
      "Epoch 8000, Loss: 0.005874\n",
      "Epoch 9000, Loss: 0.004318\n"
     ]
    }
   ],
   "source": [
    "for epoch in range(epochs):\n",
    "    hidden_input = np.dot(X, W1) + b1\n",
    "    hidden_output = sigmoid(hidden_input)\n",
    "\n",
    "    final_input = np.dot(hidden_output, W2) + b2\n",
    "    final_output = sigmoid(final_input)\n",
    "\n",
    "    error = y - final_output\n",
    "    loss = np.mean(error ** 2)\n",
    "\n",
    "    d_output = error * sigmoid_derivative(final_output)\n",
    "    d_hidden = d_output.dot(W2.T) * sigmoid_derivative(hidden_output)\n",
    "\n",
    "    W2 += hidden_output.T.dot(d_output) * learning_rate\n",
    "    b2 += np.sum(d_output, axis=0, keepdims=True) * learning_rate\n",
    "    W1 += X.T.dot(d_hidden) * learning_rate\n",
    "    b1 += np.sum(d_hidden, axis=0, keepdims=True) * learning_rate\n",
    "\n",
    "    if epoch % 1000 == 0:\n",
    "        print(f\"Epoch {epoch}, Loss: {loss:.6f}\")"
   ]
  },
  {
   "cell_type": "code",
   "execution_count": 9,
   "id": "ec82b1f6-a8df-4c0f-91da-795240d6de97",
   "metadata": {},
   "outputs": [
    {
     "name": "stdout",
     "output_type": "stream",
     "text": [
      "\n",
      "Final Predictions:\n",
      "[[0.]\n",
      " [1.]\n",
      " [1.]\n",
      " [0.]]\n"
     ]
    }
   ],
   "source": [
    "print(\"\\nFinal Predictions:\")\n",
    "hidden_input = np.dot(X, W1) + b1\n",
    "hidden_output = sigmoid(hidden_input)\n",
    "final_input = np.dot(hidden_output, W2) + b2\n",
    "final_output = sigmoid(final_input)\n",
    "print(np.round(final_output))"
   ]
  },
  {
   "cell_type": "code",
   "execution_count": null,
   "id": "0ea29982-6cd8-49a4-bc5c-8cd902db8964",
   "metadata": {},
   "outputs": [],
   "source": []
  }
 ],
 "metadata": {
  "kernelspec": {
   "display_name": "Python [conda env:base] *",
   "language": "python",
   "name": "conda-base-py"
  },
  "language_info": {
   "codemirror_mode": {
    "name": "ipython",
    "version": 3
   },
   "file_extension": ".py",
   "mimetype": "text/x-python",
   "name": "python",
   "nbconvert_exporter": "python",
   "pygments_lexer": "ipython3",
   "version": "3.12.7"
  }
 },
 "nbformat": 4,
 "nbformat_minor": 5
}
