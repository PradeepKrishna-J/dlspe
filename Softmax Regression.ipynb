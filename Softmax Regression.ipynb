{
 "cells": [
  {
   "cell_type": "code",
   "execution_count": 1,
   "id": "e7a10d89-e012-4a0b-b4ff-f74c3bc827dc",
   "metadata": {},
   "outputs": [],
   "source": [
    "import numpy as np\n",
    "import matplotlib.pyplot as plt\n",
    "from sklearn import datasets\n",
    "from sklearn.model_selection import train_test_split\n",
    "from sklearn.preprocessing import OneHotEncoder, StandardScaler"
   ]
  },
  {
   "cell_type": "code",
   "execution_count": 3,
   "id": "7655763d-b26c-40b9-a89a-17e8dc569b11",
   "metadata": {},
   "outputs": [],
   "source": [
    "iris = datasets.load_iris()\n",
    "X = iris.data\n",
    "y = iris.target\n",
    "\n",
    "encoder = OneHotEncoder(sparse_output=False)\n",
    "Y = encoder.fit_transform(y.reshape(-1, 1))\n",
    "\n",
    "scaler = StandardScaler()\n",
    "X = scaler.fit_transform(X)\n",
    "\n",
    "X_train, X_test, Y_train, Y_test = train_test_split(X, Y, test_size=0.2, random_state=42)"
   ]
  },
  {
   "cell_type": "code",
   "execution_count": 5,
   "id": "be31a24f-8ef9-484d-9ff5-7fcd1cd1a407",
   "metadata": {},
   "outputs": [],
   "source": [
    "def initialize_parameters(n_features, n_classes):\n",
    "    W = np.random.randn(n_features, n_classes) * 0.01\n",
    "    b = np.zeros((1, n_classes))\n",
    "    return W, b"
   ]
  },
  {
   "cell_type": "code",
   "execution_count": 7,
   "id": "bf652fcd-3dba-44bd-aafc-4cbe7a50d02e",
   "metadata": {},
   "outputs": [],
   "source": [
    "def softmax(z):\n",
    "    exp_z = np.exp(z - np.max(z, axis=1, keepdims=True))\n",
    "    return exp_z / np.sum(exp_z, axis=1, keepdims=True)"
   ]
  },
  {
   "cell_type": "code",
   "execution_count": 9,
   "id": "e1cc3d1e-f53a-4a83-a383-f02051589f8a",
   "metadata": {},
   "outputs": [],
   "source": [
    "def forward_propagation(X, W, b):\n",
    "    Z = np.dot(X, W) + b\n",
    "    A = softmax(Z)\n",
    "    return A"
   ]
  },
  {
   "cell_type": "code",
   "execution_count": 11,
   "id": "783e76a5-283a-4a7d-8e15-74a7a5c58f1d",
   "metadata": {},
   "outputs": [],
   "source": [
    "def compute_loss(Y, A):\n",
    "    m = Y.shape[0]\n",
    "    loss = -np.mean(np.sum(Y * np.log(A + 1e-9), axis=1))\n",
    "    return loss"
   ]
  },
  {
   "cell_type": "code",
   "execution_count": 13,
   "id": "e1aca5fd-32de-459d-9f16-97739f330266",
   "metadata": {},
   "outputs": [],
   "source": [
    "def compute_accuracy(Y, A):\n",
    "    predictions = np.argmax(A, axis=1)\n",
    "    labels = np.argmax(Y, axis=1)\n",
    "    return np.mean(predictions == labels) * 100"
   ]
  },
  {
   "cell_type": "code",
   "execution_count": 15,
   "id": "3aef83bd-54f8-4bde-8431-92aa9f343e94",
   "metadata": {},
   "outputs": [],
   "source": [
    "def train_softmax(X, Y, n_classes, learning_rate=0.1, epochs=1000):\n",
    "    n_samples, n_features = X.shape\n",
    "    W, b = initialize_parameters(n_features, n_classes)\n",
    "    losses = []\n",
    "    for epoch in range(epochs):\n",
    "        A = forward_propagation(X, W, b)\n",
    "        loss = compute_loss(Y, A)\n",
    "        losses.append(loss)\n",
    "        dW = np.dot(X.T, (A - Y)) / n_samples\n",
    "        db = np.sum(A - Y, axis=0, keepdims=True) / n_samples\n",
    "        W -= learning_rate * dW\n",
    "        b -= learning_rate * db\n",
    "        if epoch % 100 == 0:\n",
    "            acc = compute_accuracy(Y, A)\n",
    "            print(f\"Epoch {epoch}: Loss = {loss:.4f}, Accuracy = {acc:.2f}%\")\n",
    "    return W, b, losses"
   ]
  },
  {
   "cell_type": "code",
   "execution_count": 17,
   "id": "8b286914-ef03-4758-b8c6-0fcc697748b4",
   "metadata": {},
   "outputs": [],
   "source": [
    "def predict(X, W, b):\n",
    "    A = forward_propagation(X, W, b)\n",
    "    return np.argmax(A, axis=1)"
   ]
  },
  {
   "cell_type": "code",
   "execution_count": 19,
   "id": "94154a80-53c8-4f3d-97ed-c5cbc60b82e0",
   "metadata": {},
   "outputs": [
    {
     "name": "stdout",
     "output_type": "stream",
     "text": [
      "Epoch 0: Loss = 1.0925, Accuracy = 76.67%\n",
      "Epoch 100: Loss = 0.3397, Accuracy = 90.00%\n",
      "Epoch 200: Loss = 0.2702, Accuracy = 90.00%\n",
      "Epoch 300: Loss = 0.2289, Accuracy = 93.33%\n",
      "Epoch 400: Loss = 0.2009, Accuracy = 94.17%\n",
      "Epoch 500: Loss = 0.1805, Accuracy = 95.83%\n",
      "Epoch 600: Loss = 0.1651, Accuracy = 96.67%\n",
      "Epoch 700: Loss = 0.1530, Accuracy = 96.67%\n",
      "Epoch 800: Loss = 0.1432, Accuracy = 96.67%\n",
      "Epoch 900: Loss = 0.1352, Accuracy = 96.67%\n"
     ]
    }
   ],
   "source": [
    "n_classes = 3\n",
    "W, b, losses = train_softmax(X_train, Y_train, n_classes, learning_rate=0.1, epochs=1000)"
   ]
  },
  {
   "cell_type": "code",
   "execution_count": 21,
   "id": "5b4b71e0-a86a-4c27-b248-d993bd1af1a4",
   "metadata": {},
   "outputs": [
    {
     "data": {
      "image/png": "[encoded data removed]",
      "text/plain": [
       "<Figure size 640x480 with 1 Axes>"
      ]
     },
     "metadata": {},
     "output_type": "display_data"
    }
   ],
   "source": [
    "plt.plot(losses)\n",
    "plt.xlabel(\"Epochs\")\n",
    "plt.ylabel(\"Loss\")\n",
    "plt.title(\"Loss Curve for Softmax Regression on Iris Dataset\")\n",
    "plt.show()"
   ]
  },
  {
   "cell_type": "code",
   "execution_count": 23,
   "id": "da1ae87b-46f4-4887-8a66-6ad4adb80650",
   "metadata": {},
   "outputs": [
    {
     "name": "stdout",
     "output_type": "stream",
     "text": [
      "Test Accuracy: 100.00%\n"
     ]
    }
   ],
   "source": [
    "A_test = forward_propagation(X_test, W, b)\n",
    "test_accuracy = compute_accuracy(Y_test, A_test)\n",
    "print(f\"Test Accuracy: {test_accuracy:.2f}%\")"
   ]
  },
  {
   "cell_type": "code",
   "execution_count": 25,
   "id": "293a4dce-a3a3-45dd-97f9-fc292bb498be",
   "metadata": {},
   "outputs": [
    {
     "name": "stdout",
     "output_type": "stream",
     "text": [
      "Predicted Class: setosa\n"
     ]
    }
   ],
   "source": [
    "X_sample = np.array([[5.1, 3.5, 1.4, 0.2]])\n",
    "X_sample = scaler.transform(X_sample)\n",
    "prediction = predict(X_sample, W, b)\n",
    "print(f\"Predicted Class: {iris.target_names[prediction][0]}\")"
   ]
  },
  {
   "cell_type": "code",
   "execution_count": null,
   "id": "09fd589c-fc49-46c2-bd5a-93fc4fe5093a",
   "metadata": {},
   "outputs": [],
   "source": []
  }
 ],
 "metadata": {
  "kernelspec": {
   "display_name": "Python [conda env:base] *",
   "language": "python",
   "name": "conda-base-py"
  },
  "language_info": {
   "codemirror_mode": {
    "name": "ipython",
    "version": 3
   },
   "file_extension": ".py",
   "mimetype": "text/x-python",
   "name": "python",
   "nbconvert_exporter": "python",
   "pygments_lexer": "ipython3",
   "version": "3.12.7"
  }
 },
 "nbformat": 4,
 "nbformat_minor": 5
}
